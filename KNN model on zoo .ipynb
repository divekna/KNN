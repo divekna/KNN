{
 "cells": [
  {
   "cell_type": "markdown",
   "id": "833c9e55",
   "metadata": {},
   "source": [
    "## 1. Importing important libraries"
   ]
  },
  {
   "cell_type": "code",
   "execution_count": 41,
   "id": "58ed93eb",
   "metadata": {},
   "outputs": [],
   "source": [
    "import pandas as pd\n",
    "from sklearn.preprocessing import LabelEncoder\n",
    "from sklearn.model_selection import train_test_split\n",
    "from sklearn.neighbors import KNeighborsClassifier\n",
    "from sklearn.model_selection import cross_val_score\n",
    "from sklearn.metrics import accuracy_score\n",
    "from sklearn.preprocessing import StandardScaler\n",
    "import matplotlib.pyplot as plt"
   ]
  },
  {
   "cell_type": "code",
   "execution_count": 2,
   "id": "786cd239",
   "metadata": {},
   "outputs": [],
   "source": [
    "import warnings\n",
    "warnings.filterwarnings('ignore')"
   ]
  },
  {
   "cell_type": "markdown",
   "id": "442ec25a",
   "metadata": {},
   "source": [
    "## 2. Importing Data"
   ]
  },
  {
   "cell_type": "code",
   "execution_count": 3,
   "id": "4675bc49",
   "metadata": {},
   "outputs": [
    {
     "data": {
      "text/html": [
       "<div>\n",
       "<style scoped>\n",
       "    .dataframe tbody tr th:only-of-type {\n",
       "        vertical-align: middle;\n",
       "    }\n",
       "\n",
       "    .dataframe tbody tr th {\n",
       "        vertical-align: top;\n",
       "    }\n",
       "\n",
       "    .dataframe thead th {\n",
       "        text-align: right;\n",
       "    }\n",
       "</style>\n",
       "<table border=\"1\" class=\"dataframe\">\n",
       "  <thead>\n",
       "    <tr style=\"text-align: right;\">\n",
       "      <th></th>\n",
       "      <th>animal name</th>\n",
       "      <th>hair</th>\n",
       "      <th>feathers</th>\n",
       "      <th>eggs</th>\n",
       "      <th>milk</th>\n",
       "      <th>airborne</th>\n",
       "      <th>aquatic</th>\n",
       "      <th>predator</th>\n",
       "      <th>toothed</th>\n",
       "      <th>backbone</th>\n",
       "      <th>breathes</th>\n",
       "      <th>venomous</th>\n",
       "      <th>fins</th>\n",
       "      <th>legs</th>\n",
       "      <th>tail</th>\n",
       "      <th>domestic</th>\n",
       "      <th>catsize</th>\n",
       "      <th>type</th>\n",
       "    </tr>\n",
       "  </thead>\n",
       "  <tbody>\n",
       "    <tr>\n",
       "      <th>0</th>\n",
       "      <td>aardvark</td>\n",
       "      <td>1</td>\n",
       "      <td>0</td>\n",
       "      <td>0</td>\n",
       "      <td>1</td>\n",
       "      <td>0</td>\n",
       "      <td>0</td>\n",
       "      <td>1</td>\n",
       "      <td>1</td>\n",
       "      <td>1</td>\n",
       "      <td>1</td>\n",
       "      <td>0</td>\n",
       "      <td>0</td>\n",
       "      <td>4</td>\n",
       "      <td>0</td>\n",
       "      <td>0</td>\n",
       "      <td>1</td>\n",
       "      <td>1</td>\n",
       "    </tr>\n",
       "    <tr>\n",
       "      <th>1</th>\n",
       "      <td>antelope</td>\n",
       "      <td>1</td>\n",
       "      <td>0</td>\n",
       "      <td>0</td>\n",
       "      <td>1</td>\n",
       "      <td>0</td>\n",
       "      <td>0</td>\n",
       "      <td>0</td>\n",
       "      <td>1</td>\n",
       "      <td>1</td>\n",
       "      <td>1</td>\n",
       "      <td>0</td>\n",
       "      <td>0</td>\n",
       "      <td>4</td>\n",
       "      <td>1</td>\n",
       "      <td>0</td>\n",
       "      <td>1</td>\n",
       "      <td>1</td>\n",
       "    </tr>\n",
       "    <tr>\n",
       "      <th>2</th>\n",
       "      <td>bass</td>\n",
       "      <td>0</td>\n",
       "      <td>0</td>\n",
       "      <td>1</td>\n",
       "      <td>0</td>\n",
       "      <td>0</td>\n",
       "      <td>1</td>\n",
       "      <td>1</td>\n",
       "      <td>1</td>\n",
       "      <td>1</td>\n",
       "      <td>0</td>\n",
       "      <td>0</td>\n",
       "      <td>1</td>\n",
       "      <td>0</td>\n",
       "      <td>1</td>\n",
       "      <td>0</td>\n",
       "      <td>0</td>\n",
       "      <td>4</td>\n",
       "    </tr>\n",
       "    <tr>\n",
       "      <th>3</th>\n",
       "      <td>bear</td>\n",
       "      <td>1</td>\n",
       "      <td>0</td>\n",
       "      <td>0</td>\n",
       "      <td>1</td>\n",
       "      <td>0</td>\n",
       "      <td>0</td>\n",
       "      <td>1</td>\n",
       "      <td>1</td>\n",
       "      <td>1</td>\n",
       "      <td>1</td>\n",
       "      <td>0</td>\n",
       "      <td>0</td>\n",
       "      <td>4</td>\n",
       "      <td>0</td>\n",
       "      <td>0</td>\n",
       "      <td>1</td>\n",
       "      <td>1</td>\n",
       "    </tr>\n",
       "    <tr>\n",
       "      <th>4</th>\n",
       "      <td>boar</td>\n",
       "      <td>1</td>\n",
       "      <td>0</td>\n",
       "      <td>0</td>\n",
       "      <td>1</td>\n",
       "      <td>0</td>\n",
       "      <td>0</td>\n",
       "      <td>1</td>\n",
       "      <td>1</td>\n",
       "      <td>1</td>\n",
       "      <td>1</td>\n",
       "      <td>0</td>\n",
       "      <td>0</td>\n",
       "      <td>4</td>\n",
       "      <td>1</td>\n",
       "      <td>0</td>\n",
       "      <td>1</td>\n",
       "      <td>1</td>\n",
       "    </tr>\n",
       "  </tbody>\n",
       "</table>\n",
       "</div>"
      ],
      "text/plain": [
       "  animal name  hair  feathers  eggs  milk  airborne  aquatic  predator  \\\n",
       "0    aardvark     1         0     0     1         0        0         1   \n",
       "1    antelope     1         0     0     1         0        0         0   \n",
       "2        bass     0         0     1     0         0        1         1   \n",
       "3        bear     1         0     0     1         0        0         1   \n",
       "4        boar     1         0     0     1         0        0         1   \n",
       "\n",
       "   toothed  backbone  breathes  venomous  fins  legs  tail  domestic  catsize  \\\n",
       "0        1         1         1         0     0     4     0         0        1   \n",
       "1        1         1         1         0     0     4     1         0        1   \n",
       "2        1         1         0         0     1     0     1         0        0   \n",
       "3        1         1         1         0     0     4     0         0        1   \n",
       "4        1         1         1         0     0     4     1         0        1   \n",
       "\n",
       "   type  \n",
       "0     1  \n",
       "1     1  \n",
       "2     4  \n",
       "3     1  \n",
       "4     1  "
      ]
     },
     "execution_count": 3,
     "metadata": {},
     "output_type": "execute_result"
    }
   ],
   "source": [
    "data1 = pd.read_csv('Zoo.csv',sep=',')\n",
    "data1.head()"
   ]
  },
  {
   "cell_type": "markdown",
   "id": "bc658365",
   "metadata": {},
   "source": [
    "## 3. Data Understanding"
   ]
  },
  {
   "cell_type": "code",
   "execution_count": 4,
   "id": "8256c960",
   "metadata": {},
   "outputs": [
    {
     "data": {
      "text/plain": [
       "(101, 18)"
      ]
     },
     "execution_count": 4,
     "metadata": {},
     "output_type": "execute_result"
    }
   ],
   "source": [
    "data1.shape"
   ]
  },
  {
   "cell_type": "code",
   "execution_count": 5,
   "id": "dfdb44bf",
   "metadata": {},
   "outputs": [
    {
     "data": {
      "text/plain": [
       "animal name    0\n",
       "hair           0\n",
       "feathers       0\n",
       "eggs           0\n",
       "milk           0\n",
       "airborne       0\n",
       "aquatic        0\n",
       "predator       0\n",
       "toothed        0\n",
       "backbone       0\n",
       "breathes       0\n",
       "venomous       0\n",
       "fins           0\n",
       "legs           0\n",
       "tail           0\n",
       "domestic       0\n",
       "catsize        0\n",
       "type           0\n",
       "dtype: int64"
      ]
     },
     "execution_count": 5,
     "metadata": {},
     "output_type": "execute_result"
    }
   ],
   "source": [
    "data1.isnull().sum()"
   ]
  },
  {
   "cell_type": "code",
   "execution_count": 6,
   "id": "2b7f45ad",
   "metadata": {},
   "outputs": [
    {
     "data": {
      "text/plain": [
       "animal name    object\n",
       "hair            int64\n",
       "feathers        int64\n",
       "eggs            int64\n",
       "milk            int64\n",
       "airborne        int64\n",
       "aquatic         int64\n",
       "predator        int64\n",
       "toothed         int64\n",
       "backbone        int64\n",
       "breathes        int64\n",
       "venomous        int64\n",
       "fins            int64\n",
       "legs            int64\n",
       "tail            int64\n",
       "domestic        int64\n",
       "catsize         int64\n",
       "type            int64\n",
       "dtype: object"
      ]
     },
     "execution_count": 6,
     "metadata": {},
     "output_type": "execute_result"
    }
   ],
   "source": [
    "data1.dtypes"
   ]
  },
  {
   "cell_type": "code",
   "execution_count": 7,
   "id": "afca2115",
   "metadata": {},
   "outputs": [
    {
     "data": {
      "text/plain": [
       "array([1, 4, 2, 7, 6, 5, 3], dtype=int64)"
      ]
     },
     "execution_count": 7,
     "metadata": {},
     "output_type": "execute_result"
    }
   ],
   "source": [
    "data1.type.unique()"
   ]
  },
  {
   "cell_type": "markdown",
   "id": "fc49f709",
   "metadata": {},
   "source": [
    "## 4. Data Preparation"
   ]
  },
  {
   "cell_type": "code",
   "execution_count": 18,
   "id": "708164e1",
   "metadata": {},
   "outputs": [],
   "source": [
    "del data1['animal name']"
   ]
  },
  {
   "cell_type": "code",
   "execution_count": 19,
   "id": "ff9fd752",
   "metadata": {},
   "outputs": [
    {
     "data": {
      "text/html": [
       "<div>\n",
       "<style scoped>\n",
       "    .dataframe tbody tr th:only-of-type {\n",
       "        vertical-align: middle;\n",
       "    }\n",
       "\n",
       "    .dataframe tbody tr th {\n",
       "        vertical-align: top;\n",
       "    }\n",
       "\n",
       "    .dataframe thead th {\n",
       "        text-align: right;\n",
       "    }\n",
       "</style>\n",
       "<table border=\"1\" class=\"dataframe\">\n",
       "  <thead>\n",
       "    <tr style=\"text-align: right;\">\n",
       "      <th></th>\n",
       "      <th>hair</th>\n",
       "      <th>feathers</th>\n",
       "      <th>eggs</th>\n",
       "      <th>milk</th>\n",
       "      <th>airborne</th>\n",
       "      <th>aquatic</th>\n",
       "      <th>predator</th>\n",
       "      <th>toothed</th>\n",
       "      <th>backbone</th>\n",
       "      <th>breathes</th>\n",
       "      <th>venomous</th>\n",
       "      <th>fins</th>\n",
       "      <th>legs</th>\n",
       "      <th>tail</th>\n",
       "      <th>domestic</th>\n",
       "      <th>catsize</th>\n",
       "      <th>type</th>\n",
       "    </tr>\n",
       "  </thead>\n",
       "  <tbody>\n",
       "    <tr>\n",
       "      <th>0</th>\n",
       "      <td>1</td>\n",
       "      <td>0</td>\n",
       "      <td>0</td>\n",
       "      <td>1</td>\n",
       "      <td>0</td>\n",
       "      <td>0</td>\n",
       "      <td>1</td>\n",
       "      <td>1</td>\n",
       "      <td>1</td>\n",
       "      <td>1</td>\n",
       "      <td>0</td>\n",
       "      <td>0</td>\n",
       "      <td>4</td>\n",
       "      <td>0</td>\n",
       "      <td>0</td>\n",
       "      <td>1</td>\n",
       "      <td>1</td>\n",
       "    </tr>\n",
       "    <tr>\n",
       "      <th>1</th>\n",
       "      <td>1</td>\n",
       "      <td>0</td>\n",
       "      <td>0</td>\n",
       "      <td>1</td>\n",
       "      <td>0</td>\n",
       "      <td>0</td>\n",
       "      <td>0</td>\n",
       "      <td>1</td>\n",
       "      <td>1</td>\n",
       "      <td>1</td>\n",
       "      <td>0</td>\n",
       "      <td>0</td>\n",
       "      <td>4</td>\n",
       "      <td>1</td>\n",
       "      <td>0</td>\n",
       "      <td>1</td>\n",
       "      <td>1</td>\n",
       "    </tr>\n",
       "    <tr>\n",
       "      <th>2</th>\n",
       "      <td>0</td>\n",
       "      <td>0</td>\n",
       "      <td>1</td>\n",
       "      <td>0</td>\n",
       "      <td>0</td>\n",
       "      <td>1</td>\n",
       "      <td>1</td>\n",
       "      <td>1</td>\n",
       "      <td>1</td>\n",
       "      <td>0</td>\n",
       "      <td>0</td>\n",
       "      <td>1</td>\n",
       "      <td>0</td>\n",
       "      <td>1</td>\n",
       "      <td>0</td>\n",
       "      <td>0</td>\n",
       "      <td>4</td>\n",
       "    </tr>\n",
       "    <tr>\n",
       "      <th>3</th>\n",
       "      <td>1</td>\n",
       "      <td>0</td>\n",
       "      <td>0</td>\n",
       "      <td>1</td>\n",
       "      <td>0</td>\n",
       "      <td>0</td>\n",
       "      <td>1</td>\n",
       "      <td>1</td>\n",
       "      <td>1</td>\n",
       "      <td>1</td>\n",
       "      <td>0</td>\n",
       "      <td>0</td>\n",
       "      <td>4</td>\n",
       "      <td>0</td>\n",
       "      <td>0</td>\n",
       "      <td>1</td>\n",
       "      <td>1</td>\n",
       "    </tr>\n",
       "    <tr>\n",
       "      <th>4</th>\n",
       "      <td>1</td>\n",
       "      <td>0</td>\n",
       "      <td>0</td>\n",
       "      <td>1</td>\n",
       "      <td>0</td>\n",
       "      <td>0</td>\n",
       "      <td>1</td>\n",
       "      <td>1</td>\n",
       "      <td>1</td>\n",
       "      <td>1</td>\n",
       "      <td>0</td>\n",
       "      <td>0</td>\n",
       "      <td>4</td>\n",
       "      <td>1</td>\n",
       "      <td>0</td>\n",
       "      <td>1</td>\n",
       "      <td>1</td>\n",
       "    </tr>\n",
       "  </tbody>\n",
       "</table>\n",
       "</div>"
      ],
      "text/plain": [
       "   hair  feathers  eggs  milk  airborne  aquatic  predator  toothed  backbone  \\\n",
       "0     1         0     0     1         0        0         1        1         1   \n",
       "1     1         0     0     1         0        0         0        1         1   \n",
       "2     0         0     1     0         0        1         1        1         1   \n",
       "3     1         0     0     1         0        0         1        1         1   \n",
       "4     1         0     0     1         0        0         1        1         1   \n",
       "\n",
       "   breathes  venomous  fins  legs  tail  domestic  catsize  type  \n",
       "0         1         0     0     4     0         0        1     1  \n",
       "1         1         0     0     4     1         0        1     1  \n",
       "2         0         0     1     0     1         0        0     4  \n",
       "3         1         0     0     4     0         0        1     1  \n",
       "4         1         0     0     4     1         0        1     1  "
      ]
     },
     "execution_count": 19,
     "metadata": {},
     "output_type": "execute_result"
    }
   ],
   "source": [
    "data1.head()"
   ]
  },
  {
   "cell_type": "markdown",
   "id": "6c16d09e",
   "metadata": {},
   "source": [
    "## 5. Model Building "
   ]
  },
  {
   "cell_type": "code",
   "execution_count": 20,
   "id": "e9095aed",
   "metadata": {},
   "outputs": [],
   "source": [
    "X = data1.drop('type',axis=1)\n",
    "y = data1[['type']]"
   ]
  },
  {
   "cell_type": "code",
   "execution_count": 22,
   "id": "a61a4ae5",
   "metadata": {},
   "outputs": [
    {
     "data": {
      "text/plain": [
       "((80, 16), (21, 16), (80, 1), (21, 1))"
      ]
     },
     "execution_count": 22,
     "metadata": {},
     "output_type": "execute_result"
    }
   ],
   "source": [
    "x_train,x_test,y_train,y_test = train_test_split(X,y,test_size=0.20,random_state=12)\n",
    "x_train.shape,x_test.shape,y_train.shape,y_test.shape"
   ]
  },
  {
   "cell_type": "markdown",
   "id": "bc01358b",
   "metadata": {},
   "source": [
    "## 6. Model Training | Testing | Evaluation without NORMALIZATION"
   ]
  },
  {
   "cell_type": "markdown",
   "id": "e51a9f5d",
   "metadata": {},
   "source": [
    "### Generating model with k = 3"
   ]
  },
  {
   "cell_type": "code",
   "execution_count": 24,
   "id": "a029f286",
   "metadata": {},
   "outputs": [
    {
     "name": "stdout",
     "output_type": "stream",
     "text": [
      "Accuracy score:  0.9524\n"
     ]
    }
   ],
   "source": [
    "knn_model = KNeighborsClassifier(n_neighbors=3)\n",
    "knn_model.fit(x_train,y_train)\n",
    "y_pred = knn_model.predict(x_test)\n",
    "print(\"Accuracy score: \", round(accuracy_score(y_test,y_pred),4))"
   ]
  },
  {
   "cell_type": "markdown",
   "id": "a3e3618c",
   "metadata": {},
   "source": [
    "### Generating a Model with K = 5"
   ]
  },
  {
   "cell_type": "code",
   "execution_count": 25,
   "id": "060752d0",
   "metadata": {},
   "outputs": [
    {
     "name": "stdout",
     "output_type": "stream",
     "text": [
      "Accuracy score:  0.8571\n"
     ]
    }
   ],
   "source": [
    "knn_model = KNeighborsClassifier(n_neighbors=5)\n",
    "knn_model.fit(x_train,y_train)\n",
    "y_pred = knn_model.predict(x_test)\n",
    "print(\"Accuracy score: \", round(accuracy_score(y_test,y_pred),4))"
   ]
  },
  {
   "cell_type": "markdown",
   "id": "b4254099",
   "metadata": {},
   "source": [
    "### Generating a Model with K = 7"
   ]
  },
  {
   "cell_type": "code",
   "execution_count": 26,
   "id": "39444c0d",
   "metadata": {},
   "outputs": [
    {
     "name": "stdout",
     "output_type": "stream",
     "text": [
      "Accuracy score:  0.8571\n"
     ]
    }
   ],
   "source": [
    "knn_model = KNeighborsClassifier(n_neighbors=5)\n",
    "knn_model.fit(x_train,y_train)\n",
    "y_pred = knn_model.predict(x_test)\n",
    "print(\"Accuracy score: \", round(accuracy_score(y_test,y_pred),4))"
   ]
  },
  {
   "cell_type": "markdown",
   "id": "e739909e",
   "metadata": {},
   "source": [
    "## Model Training | Testing | Evaluation with NORMALIZATION"
   ]
  },
  {
   "cell_type": "markdown",
   "id": "057895a0",
   "metadata": {},
   "source": [
    "### Generating a Model with K = 3"
   ]
  },
  {
   "cell_type": "code",
   "execution_count": 27,
   "id": "f809425c",
   "metadata": {},
   "outputs": [],
   "source": [
    "scaler   = StandardScaler()\n",
    "scaled_X = scaler.fit_transform(X)"
   ]
  },
  {
   "cell_type": "code",
   "execution_count": 28,
   "id": "77f36d13",
   "metadata": {},
   "outputs": [
    {
     "data": {
      "text/plain": [
       "((80, 16), (80, 1), (21, 16), (21, 1))"
      ]
     },
     "execution_count": 28,
     "metadata": {},
     "output_type": "execute_result"
    }
   ],
   "source": [
    "X_train,X_test,y_train,y_test = train_test_split(scaled_X,y,test_size=0.20,random_state= 12,stratify=y)\n",
    "X_train.shape,y_train.shape,X_test.shape,y_test.shape"
   ]
  },
  {
   "cell_type": "code",
   "execution_count": 29,
   "id": "467c34e9",
   "metadata": {},
   "outputs": [
    {
     "data": {
      "text/plain": [
       "array([[-0.86103386, -0.49690399,  0.84372057, ..., -1.69841555,\n",
       "        -0.38435306, -0.87859537],\n",
       "       [ 1.16139451, -0.49690399, -1.18522652, ...,  0.58878406,\n",
       "        -0.38435306,  1.13818037],\n",
       "       [-0.86103386, -0.49690399,  0.84372057, ..., -1.69841555,\n",
       "        -0.38435306, -0.87859537],\n",
       "       ...,\n",
       "       [ 1.16139451, -0.49690399, -1.18522652, ..., -1.69841555,\n",
       "        -0.38435306,  1.13818037],\n",
       "       [-0.86103386, -0.49690399,  0.84372057, ...,  0.58878406,\n",
       "        -0.38435306, -0.87859537],\n",
       "       [-0.86103386, -0.49690399,  0.84372057, ...,  0.58878406,\n",
       "        -0.38435306,  1.13818037]])"
      ]
     },
     "execution_count": 29,
     "metadata": {},
     "output_type": "execute_result"
    }
   ],
   "source": [
    "X_train"
   ]
  },
  {
   "cell_type": "code",
   "execution_count": 30,
   "id": "d44b1ba7",
   "metadata": {
    "scrolled": true
   },
   "outputs": [
    {
     "data": {
      "text/plain": [
       "array([[-0.86103386, -0.49690399,  0.84372057, -0.82663978, -0.55829053,\n",
       "         1.34370962,  0.89642146, -1.2349089 , -2.14734979, -1.95180015,\n",
       "        -0.29329423, -0.44986771,  2.54951445, -1.69841555, -0.38435306,\n",
       "         1.13818037],\n",
       "       [-0.86103386, -0.49690399,  0.84372057, -0.82663978, -0.55829053,\n",
       "         1.34370962,  0.89642146,  0.80977633,  0.46569032, -1.95180015,\n",
       "        -0.29329423,  2.22287572, -1.40443503,  0.58878406, -0.38435306,\n",
       "        -0.87859537],\n",
       "       [ 1.16139451, -0.49690399, -1.18522652,  1.20971676, -0.55829053,\n",
       "        -0.74420841, -1.1155467 ,  0.80977633,  0.46569032,  0.51234754,\n",
       "        -0.29329423, -0.44986771, -0.41594766,  0.58878406, -0.38435306,\n",
       "        -0.87859537],\n",
       "       [ 1.16139451, -0.49690399, -1.18522652,  1.20971676, -0.55829053,\n",
       "        -0.74420841, -1.1155467 ,  0.80977633,  0.46569032,  0.51234754,\n",
       "        -0.29329423, -0.44986771,  0.57253971, -1.69841555,  2.60177454,\n",
       "        -0.87859537],\n",
       "       [ 1.16139451, -0.49690399, -1.18522652,  1.20971676,  1.79118211,\n",
       "        -0.74420841, -1.1155467 ,  0.80977633,  0.46569032,  0.51234754,\n",
       "        -0.29329423, -0.44986771, -0.41594766,  0.58878406, -0.38435306,\n",
       "        -0.87859537],\n",
       "       [-0.86103386,  2.01246118,  0.84372057, -0.82663978,  1.79118211,\n",
       "         1.34370962,  0.89642146, -1.2349089 ,  0.46569032,  0.51234754,\n",
       "        -0.29329423, -0.44986771, -0.41594766,  0.58878406, -0.38435306,\n",
       "        -0.87859537],\n",
       "       [ 1.16139451, -0.49690399, -1.18522652,  1.20971676, -0.55829053,\n",
       "        -0.74420841,  0.89642146,  0.80977633,  0.46569032,  0.51234754,\n",
       "        -0.29329423, -0.44986771,  0.57253971,  0.58878406, -0.38435306,\n",
       "         1.13818037],\n",
       "       [ 1.16139451, -0.49690399,  0.84372057, -0.82663978,  1.79118211,\n",
       "        -0.74420841, -1.1155467 , -1.2349089 , -2.14734979,  0.51234754,\n",
       "        -0.29329423, -0.44986771,  1.56102708, -1.69841555, -0.38435306,\n",
       "        -0.87859537],\n",
       "       [ 1.16139451, -0.49690399, -1.18522652,  1.20971676, -0.55829053,\n",
       "        -0.74420841,  0.89642146,  0.80977633,  0.46569032,  0.51234754,\n",
       "        -0.29329423, -0.44986771,  0.57253971,  0.58878406, -0.38435306,\n",
       "         1.13818037],\n",
       "       [-0.86103386, -0.49690399,  0.84372057, -0.82663978, -0.55829053,\n",
       "         1.34370962,  0.89642146,  0.80977633,  0.46569032,  0.51234754,\n",
       "         3.40954542, -0.44986771,  0.57253971, -1.69841555, -0.38435306,\n",
       "        -0.87859537],\n",
       "       [-0.86103386,  2.01246118,  0.84372057, -0.82663978,  1.79118211,\n",
       "        -0.74420841, -1.1155467 , -1.2349089 ,  0.46569032,  0.51234754,\n",
       "        -0.29329423, -0.44986771, -0.41594766,  0.58878406,  2.60177454,\n",
       "        -0.87859537],\n",
       "       [ 1.16139451, -0.49690399,  0.84372057, -0.82663978,  1.79118211,\n",
       "        -0.74420841, -1.1155467 , -1.2349089 , -2.14734979,  0.51234754,\n",
       "        -0.29329423, -0.44986771,  1.56102708, -1.69841555, -0.38435306,\n",
       "        -0.87859537],\n",
       "       [-0.86103386, -0.49690399,  0.84372057, -0.82663978, -0.55829053,\n",
       "         1.34370962,  0.89642146, -1.2349089 , -2.14734979, -1.95180015,\n",
       "         3.40954542, -0.44986771, -1.40443503, -1.69841555, -0.38435306,\n",
       "        -0.87859537],\n",
       "       [-0.86103386,  2.01246118,  0.84372057, -0.82663978,  1.79118211,\n",
       "         1.34370962,  0.89642146, -1.2349089 ,  0.46569032,  0.51234754,\n",
       "        -0.29329423, -0.44986771, -0.41594766,  0.58878406, -0.38435306,\n",
       "        -0.87859537],\n",
       "       [ 1.16139451, -0.49690399, -1.18522652,  1.20971676, -0.55829053,\n",
       "        -0.74420841,  0.89642146,  0.80977633,  0.46569032,  0.51234754,\n",
       "        -0.29329423, -0.44986771,  0.57253971, -1.69841555, -0.38435306,\n",
       "         1.13818037],\n",
       "       [-0.86103386,  2.01246118,  0.84372057, -0.82663978,  1.79118211,\n",
       "        -0.74420841,  0.89642146, -1.2349089 ,  0.46569032,  0.51234754,\n",
       "        -0.29329423, -0.44986771, -0.41594766,  0.58878406, -0.38435306,\n",
       "        -0.87859537],\n",
       "       [-0.86103386, -0.49690399,  0.84372057, -0.82663978, -0.55829053,\n",
       "         1.34370962, -1.1155467 ,  0.80977633,  0.46569032, -1.95180015,\n",
       "        -0.29329423,  2.22287572, -1.40443503,  0.58878406, -0.38435306,\n",
       "        -0.87859537],\n",
       "       [-0.86103386, -0.49690399,  0.84372057, -0.82663978, -0.55829053,\n",
       "        -0.74420841,  0.89642146,  0.80977633,  0.46569032,  0.51234754,\n",
       "        -0.29329423, -0.44986771, -1.40443503,  0.58878406, -0.38435306,\n",
       "        -0.87859537],\n",
       "       [ 1.16139451, -0.49690399, -1.18522652,  1.20971676, -0.55829053,\n",
       "        -0.74420841, -1.1155467 ,  0.80977633,  0.46569032,  0.51234754,\n",
       "        -0.29329423, -0.44986771,  0.57253971,  0.58878406, -0.38435306,\n",
       "         1.13818037],\n",
       "       [ 1.16139451, -0.49690399, -1.18522652,  1.20971676, -0.55829053,\n",
       "        -0.74420841,  0.89642146,  0.80977633,  0.46569032,  0.51234754,\n",
       "        -0.29329423, -0.44986771,  0.57253971,  0.58878406, -0.38435306,\n",
       "        -0.87859537],\n",
       "       [-0.86103386, -0.49690399,  0.84372057, -0.82663978, -0.55829053,\n",
       "         1.34370962,  0.89642146,  0.80977633,  0.46569032, -1.95180015,\n",
       "        -0.29329423,  2.22287572, -1.40443503,  0.58878406, -0.38435306,\n",
       "        -0.87859537]])"
      ]
     },
     "execution_count": 30,
     "metadata": {},
     "output_type": "execute_result"
    }
   ],
   "source": [
    "X_test"
   ]
  },
  {
   "cell_type": "code",
   "execution_count": 34,
   "id": "7d36422d",
   "metadata": {},
   "outputs": [
    {
     "name": "stdout",
     "output_type": "stream",
     "text": [
      "Accuracy score:  0.9524\n"
     ]
    }
   ],
   "source": [
    "knn_model = KNeighborsClassifier(n_neighbors=3)\n",
    "knn_model.fit(X_train,y_train)\n",
    "y_pred = knn_model.predict(X_test)\n",
    "print(\"Accuracy score: \", round(accuracy_score(y_test,y_pred),4))"
   ]
  },
  {
   "cell_type": "markdown",
   "id": "fc4f1a3b",
   "metadata": {},
   "source": [
    "### Generating a Model with K = 5"
   ]
  },
  {
   "cell_type": "code",
   "execution_count": 35,
   "id": "7e2f726d",
   "metadata": {},
   "outputs": [
    {
     "name": "stdout",
     "output_type": "stream",
     "text": [
      "Accuracy score:  1.0\n"
     ]
    }
   ],
   "source": [
    "knn_model = KNeighborsClassifier(n_neighbors=5)\n",
    "knn_model.fit(X_train,y_train)\n",
    "y_pred = knn_model.predict(X_test)\n",
    "print(\"Accuracy score: \", round(accuracy_score(y_test,y_pred),4))"
   ]
  },
  {
   "cell_type": "markdown",
   "id": "295ffece",
   "metadata": {},
   "source": [
    "### Generating a Model with K = 7"
   ]
  },
  {
   "cell_type": "code",
   "execution_count": 36,
   "id": "d4712863",
   "metadata": {},
   "outputs": [
    {
     "name": "stdout",
     "output_type": "stream",
     "text": [
      "Accuracy score:  0.9524\n"
     ]
    }
   ],
   "source": [
    "knn_model = KNeighborsClassifier(n_neighbors=7)\n",
    "knn_model.fit(X_train,y_train)\n",
    "y_pred = knn_model.predict(X_test)\n",
    "print(\"Accuracy score: \", round(accuracy_score(y_test,y_pred),4))"
   ]
  },
  {
   "cell_type": "markdown",
   "id": "07d231fe",
   "metadata": {},
   "source": [
    "## How to pick up optimum no of k?"
   ]
  },
  {
   "cell_type": "code",
   "execution_count": 37,
   "id": "f282e77d",
   "metadata": {},
   "outputs": [],
   "source": [
    "neighbours = list(range(1,50,2))\n",
    "cv_scores = []\n",
    "\n",
    "for i in neighbours:\n",
    "    #print(i)\n",
    "    knn_model = KNeighborsClassifier(n_neighbors = i)\n",
    "    cv_score = cross_val_score(estimator = knn_model,X=scaled_X,y=y,cv=10)\n",
    "    #print(i,'-',cv_score.mean())\n",
    "    cv_scores.append(cv_score.mean())"
   ]
  },
  {
   "cell_type": "code",
   "execution_count": 38,
   "id": "b780e097",
   "metadata": {},
   "outputs": [
    {
     "data": {
      "text/plain": [
       "[0.9509090909090909,\n",
       " 0.93,\n",
       " 0.9400000000000001,\n",
       " 0.9200000000000002,\n",
       " 0.89,\n",
       " 0.860909090909091,\n",
       " 0.860909090909091,\n",
       " 0.850909090909091,\n",
       " 0.860909090909091,\n",
       " 0.860909090909091,\n",
       " 0.8418181818181818,\n",
       " 0.8218181818181819,\n",
       " 0.8218181818181819,\n",
       " 0.7918181818181818,\n",
       " 0.7918181818181818,\n",
       " 0.7827272727272728,\n",
       " 0.7727272727272728,\n",
       " 0.7327272727272728,\n",
       " 0.7127272727272727,\n",
       " 0.6827272727272726,\n",
       " 0.6727272727272726,\n",
       " 0.6527272727272726,\n",
       " 0.6327272727272726,\n",
       " 0.6127272727272727,\n",
       " 0.5636363636363637]"
      ]
     },
     "execution_count": 38,
     "metadata": {},
     "output_type": "execute_result"
    }
   ],
   "source": [
    "cv_scores"
   ]
  },
  {
   "cell_type": "code",
   "execution_count": 39,
   "id": "2e46fbf7",
   "metadata": {},
   "outputs": [
    {
     "data": {
      "text/plain": [
       "1"
      ]
     },
     "execution_count": 39,
     "metadata": {},
     "output_type": "execute_result"
    }
   ],
   "source": [
    "neighbours[cv_scores.index(max(cv_scores))]"
   ]
  },
  {
   "cell_type": "markdown",
   "id": "c49ba79a",
   "metadata": {},
   "source": [
    "### Vizualizing the K neighbours wrt CV"
   ]
  },
  {
   "cell_type": "code",
   "execution_count": 42,
   "id": "c4ad443d",
   "metadata": {},
   "outputs": [
    {
     "data": {
      "text/plain": [
       "[<matplotlib.lines.Line2D at 0x2a673e18e50>]"
      ]
     },
     "execution_count": 42,
     "metadata": {},
     "output_type": "execute_result"
    },
    {
     "data": {
      "image/png": "[encoded data removed]",
      "text/plain": [
       "<Figure size 432x288 with 1 Axes>"
      ]
     },
     "metadata": {
      "needs_background": "light"
     },
     "output_type": "display_data"
    }
   ],
   "source": [
    "plt.plot(neighbours,cv_scores)"
   ]
  },
  {
   "cell_type": "markdown",
   "id": "f0d52d83",
   "metadata": {},
   "source": [
    "### Rebuild the Model by choosing 1 as the neighrest neighbour"
   ]
  },
  {
   "cell_type": "code",
   "execution_count": 44,
   "id": "4d415530",
   "metadata": {},
   "outputs": [
    {
     "name": "stdout",
     "output_type": "stream",
     "text": [
      "Accuracy score:  0.9524\n"
     ]
    }
   ],
   "source": [
    "knn_model = KNeighborsClassifier(n_neighbors=1)\n",
    "knn_model.fit(X_train,y_train)\n",
    "y_pred = knn_model.predict(X_test)\n",
    "print(\"Accuracy score: \", round(accuracy_score(y_test,y_pred),4))"
   ]
  }
 ],
 "metadata": {
  "kernelspec": {
   "display_name": "Python 3",
   "language": "python",
   "name": "python3"
  },
  "language_info": {
   "codemirror_mode": {
    "name": "ipython",
    "version": 3
   },
   "file_extension": ".py",
   "mimetype": "text/x-python",
   "name": "python",
   "nbconvert_exporter": "python",
   "pygments_lexer": "ipython3",
   "version": "3.8.8"
  }
 },
 "nbformat": 4,
 "nbformat_minor": 5
}
