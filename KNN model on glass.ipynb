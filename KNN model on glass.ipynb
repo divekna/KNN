{
 "cells": [
  {
   "cell_type": "markdown",
   "id": "2997b155",
   "metadata": {},
   "source": [
    "## 1. Importing important libraries"
   ]
  },
  {
   "cell_type": "code",
   "execution_count": 32,
   "id": "0e88312f",
   "metadata": {},
   "outputs": [],
   "source": [
    "import pandas as pd\n",
    "from sklearn.model_selection import train_test_split\n",
    "from sklearn.neighbors import KNeighborsClassifier\n",
    "from sklearn.metrics import accuracy_score,precision_score,recall_score,confusion_matrix,classification_report\n",
    "from sklearn.preprocessing import StandardScaler\n",
    "from sklearn.model_selection import cross_val_score\n",
    "import matplotlib.pyplot as plt"
   ]
  },
  {
   "cell_type": "code",
   "execution_count": 3,
   "id": "9f5b422c",
   "metadata": {},
   "outputs": [],
   "source": [
    "import warnings\n",
    "warnings.filterwarnings('ignore')"
   ]
  },
  {
   "cell_type": "markdown",
   "id": "75173dba",
   "metadata": {},
   "source": [
    "## 2. Importing Dataset"
   ]
  },
  {
   "cell_type": "code",
   "execution_count": 4,
   "id": "6ecdc440",
   "metadata": {},
   "outputs": [
    {
     "data": {
      "text/html": [
       "<div>\n",
       "<style scoped>\n",
       "    .dataframe tbody tr th:only-of-type {\n",
       "        vertical-align: middle;\n",
       "    }\n",
       "\n",
       "    .dataframe tbody tr th {\n",
       "        vertical-align: top;\n",
       "    }\n",
       "\n",
       "    .dataframe thead th {\n",
       "        text-align: right;\n",
       "    }\n",
       "</style>\n",
       "<table border=\"1\" class=\"dataframe\">\n",
       "  <thead>\n",
       "    <tr style=\"text-align: right;\">\n",
       "      <th></th>\n",
       "      <th>RI</th>\n",
       "      <th>Na</th>\n",
       "      <th>Mg</th>\n",
       "      <th>Al</th>\n",
       "      <th>Si</th>\n",
       "      <th>K</th>\n",
       "      <th>Ca</th>\n",
       "      <th>Ba</th>\n",
       "      <th>Fe</th>\n",
       "      <th>Type</th>\n",
       "    </tr>\n",
       "  </thead>\n",
       "  <tbody>\n",
       "    <tr>\n",
       "      <th>0</th>\n",
       "      <td>1.52101</td>\n",
       "      <td>13.64</td>\n",
       "      <td>4.49</td>\n",
       "      <td>1.10</td>\n",
       "      <td>71.78</td>\n",
       "      <td>0.06</td>\n",
       "      <td>8.75</td>\n",
       "      <td>0.0</td>\n",
       "      <td>0.0</td>\n",
       "      <td>1</td>\n",
       "    </tr>\n",
       "    <tr>\n",
       "      <th>1</th>\n",
       "      <td>1.51761</td>\n",
       "      <td>13.89</td>\n",
       "      <td>3.60</td>\n",
       "      <td>1.36</td>\n",
       "      <td>72.73</td>\n",
       "      <td>0.48</td>\n",
       "      <td>7.83</td>\n",
       "      <td>0.0</td>\n",
       "      <td>0.0</td>\n",
       "      <td>1</td>\n",
       "    </tr>\n",
       "    <tr>\n",
       "      <th>2</th>\n",
       "      <td>1.51618</td>\n",
       "      <td>13.53</td>\n",
       "      <td>3.55</td>\n",
       "      <td>1.54</td>\n",
       "      <td>72.99</td>\n",
       "      <td>0.39</td>\n",
       "      <td>7.78</td>\n",
       "      <td>0.0</td>\n",
       "      <td>0.0</td>\n",
       "      <td>1</td>\n",
       "    </tr>\n",
       "    <tr>\n",
       "      <th>3</th>\n",
       "      <td>1.51766</td>\n",
       "      <td>13.21</td>\n",
       "      <td>3.69</td>\n",
       "      <td>1.29</td>\n",
       "      <td>72.61</td>\n",
       "      <td>0.57</td>\n",
       "      <td>8.22</td>\n",
       "      <td>0.0</td>\n",
       "      <td>0.0</td>\n",
       "      <td>1</td>\n",
       "    </tr>\n",
       "    <tr>\n",
       "      <th>4</th>\n",
       "      <td>1.51742</td>\n",
       "      <td>13.27</td>\n",
       "      <td>3.62</td>\n",
       "      <td>1.24</td>\n",
       "      <td>73.08</td>\n",
       "      <td>0.55</td>\n",
       "      <td>8.07</td>\n",
       "      <td>0.0</td>\n",
       "      <td>0.0</td>\n",
       "      <td>1</td>\n",
       "    </tr>\n",
       "  </tbody>\n",
       "</table>\n",
       "</div>"
      ],
      "text/plain": [
       "        RI     Na    Mg    Al     Si     K    Ca   Ba   Fe  Type\n",
       "0  1.52101  13.64  4.49  1.10  71.78  0.06  8.75  0.0  0.0     1\n",
       "1  1.51761  13.89  3.60  1.36  72.73  0.48  7.83  0.0  0.0     1\n",
       "2  1.51618  13.53  3.55  1.54  72.99  0.39  7.78  0.0  0.0     1\n",
       "3  1.51766  13.21  3.69  1.29  72.61  0.57  8.22  0.0  0.0     1\n",
       "4  1.51742  13.27  3.62  1.24  73.08  0.55  8.07  0.0  0.0     1"
      ]
     },
     "execution_count": 4,
     "metadata": {},
     "output_type": "execute_result"
    }
   ],
   "source": [
    "data1 = pd.read_csv('glass.csv',sep=',')\n",
    "data1.head()"
   ]
  },
  {
   "cell_type": "markdown",
   "id": "3453b0a0",
   "metadata": {},
   "source": [
    "## 3. Data Understanding"
   ]
  },
  {
   "cell_type": "code",
   "execution_count": 5,
   "id": "b2fdd446",
   "metadata": {},
   "outputs": [
    {
     "data": {
      "text/plain": [
       "(214, 10)"
      ]
     },
     "execution_count": 5,
     "metadata": {},
     "output_type": "execute_result"
    }
   ],
   "source": [
    "data1.shape"
   ]
  },
  {
   "cell_type": "code",
   "execution_count": 5,
   "id": "34f82be4",
   "metadata": {},
   "outputs": [
    {
     "data": {
      "text/plain": [
       "RI      float64\n",
       "Na      float64\n",
       "Mg      float64\n",
       "Al      float64\n",
       "Si      float64\n",
       "K       float64\n",
       "Ca      float64\n",
       "Ba      float64\n",
       "Fe      float64\n",
       "Type      int64\n",
       "dtype: object"
      ]
     },
     "execution_count": 5,
     "metadata": {},
     "output_type": "execute_result"
    }
   ],
   "source": [
    "data1.dtypes"
   ]
  },
  {
   "cell_type": "code",
   "execution_count": 6,
   "id": "6b318fd0",
   "metadata": {},
   "outputs": [
    {
     "data": {
      "text/plain": [
       "RI      0\n",
       "Na      0\n",
       "Mg      0\n",
       "Al      0\n",
       "Si      0\n",
       "K       0\n",
       "Ca      0\n",
       "Ba      0\n",
       "Fe      0\n",
       "Type    0\n",
       "dtype: int64"
      ]
     },
     "execution_count": 6,
     "metadata": {},
     "output_type": "execute_result"
    }
   ],
   "source": [
    "data1.isnull().sum()"
   ]
  },
  {
   "cell_type": "code",
   "execution_count": 7,
   "id": "10399887",
   "metadata": {},
   "outputs": [
    {
     "data": {
      "text/plain": [
       "array([1, 2, 3, 5, 6, 7], dtype=int64)"
      ]
     },
     "execution_count": 7,
     "metadata": {},
     "output_type": "execute_result"
    }
   ],
   "source": [
    "data1.Type.unique()"
   ]
  },
  {
   "cell_type": "markdown",
   "id": "88aab7bb",
   "metadata": {},
   "source": [
    "## 4. Model Building"
   ]
  },
  {
   "cell_type": "code",
   "execution_count": 6,
   "id": "c37ffe57",
   "metadata": {},
   "outputs": [],
   "source": [
    "X = data1.drop('Type',axis=1)\n",
    "y = data1[['Type']]"
   ]
  },
  {
   "cell_type": "code",
   "execution_count": 7,
   "id": "da0beb85",
   "metadata": {},
   "outputs": [],
   "source": [
    "x_train,x_test,y_train,y_test = train_test_split(X,y,test_size=0.20,random_state=12)"
   ]
  },
  {
   "cell_type": "code",
   "execution_count": 8,
   "id": "52330758",
   "metadata": {},
   "outputs": [
    {
     "name": "stdout",
     "output_type": "stream",
     "text": [
      "(171, 9)\n",
      "(171, 1)\n"
     ]
    }
   ],
   "source": [
    "print(x_train.shape)\n",
    "print(y_train.shape)"
   ]
  },
  {
   "cell_type": "code",
   "execution_count": 9,
   "id": "294a2e8e",
   "metadata": {},
   "outputs": [
    {
     "name": "stdout",
     "output_type": "stream",
     "text": [
      "(43, 9)\n",
      "(43, 1)\n"
     ]
    }
   ],
   "source": [
    "print(x_test.shape)\n",
    "print(y_test.shape)"
   ]
  },
  {
   "cell_type": "markdown",
   "id": "f3654b49",
   "metadata": {},
   "source": [
    "## Model Training | Testing | Evaluation without NORMALIZATION¶"
   ]
  },
  {
   "cell_type": "markdown",
   "id": "8b1c0038",
   "metadata": {},
   "source": [
    "### Generating a Model with K = 3"
   ]
  },
  {
   "cell_type": "code",
   "execution_count": 10,
   "id": "a9ad3aaf",
   "metadata": {},
   "outputs": [
    {
     "name": "stdout",
     "output_type": "stream",
     "text": [
      "Accuracy score:  0.7209\n"
     ]
    }
   ],
   "source": [
    "knn_model = KNeighborsClassifier(n_neighbors=3)\n",
    "knn_model.fit(x_train,y_train)\n",
    "y_pred = knn_model.predict(x_test)\n",
    "print(\"Accuracy score: \", round(accuracy_score(y_test,y_pred),4))"
   ]
  },
  {
   "cell_type": "markdown",
   "id": "d0521f5a",
   "metadata": {},
   "source": [
    "### Generating a Model with K = 5"
   ]
  },
  {
   "cell_type": "code",
   "execution_count": 11,
   "id": "3d607c90",
   "metadata": {},
   "outputs": [
    {
     "name": "stdout",
     "output_type": "stream",
     "text": [
      "Accuracy score:  0.7907\n"
     ]
    }
   ],
   "source": [
    "knn_model = KNeighborsClassifier(n_neighbors=5)\n",
    "knn_model.fit(x_train,y_train)\n",
    "y_pred = knn_model.predict(x_test)\n",
    "print(\"Accuracy score: \", round(accuracy_score(y_test,y_pred),4))"
   ]
  },
  {
   "cell_type": "markdown",
   "id": "4c9313e1",
   "metadata": {},
   "source": [
    "### Generating a Model with K = 7"
   ]
  },
  {
   "cell_type": "code",
   "execution_count": 12,
   "id": "e2f62110",
   "metadata": {},
   "outputs": [
    {
     "name": "stdout",
     "output_type": "stream",
     "text": [
      "Accuracy score:  0.7442\n"
     ]
    }
   ],
   "source": [
    "knn_model = KNeighborsClassifier(n_neighbors=7)\n",
    "knn_model.fit(x_train,y_train)\n",
    "y_pred = knn_model.predict(x_test)\n",
    "print(\"Accuracy score: \", round(accuracy_score(y_test,y_pred),4))"
   ]
  },
  {
   "cell_type": "markdown",
   "id": "9f7783ca",
   "metadata": {},
   "source": [
    "### choosing optimum k "
   ]
  },
  {
   "cell_type": "code",
   "execution_count": 18,
   "id": "a6f5102d",
   "metadata": {
    "scrolled": true
   },
   "outputs": [
    {
     "name": "stdout",
     "output_type": "stream",
     "text": [
      "Acuuracy score for  1 is  0.7442\n",
      "Acuuracy score for  3 is  0.7209\n",
      "Acuuracy score for  5 is  0.7907\n",
      "Acuuracy score for  7 is  0.7442\n",
      "Acuuracy score for  9 is  0.6977\n",
      "Acuuracy score for  11 is  0.7209\n",
      "Acuuracy score for  13 is  0.6512\n",
      "Acuuracy score for  15 is  0.6744\n",
      "Acuuracy score for  17 is  0.6977\n",
      "Acuuracy score for  19 is  0.6744\n",
      "Acuuracy score for  21 is  0.6744\n",
      "Acuuracy score for  23 is  0.6744\n",
      "Acuuracy score for  25 is  0.6977\n",
      "Acuuracy score for  27 is  0.6977\n",
      "Acuuracy score for  29 is  0.6744\n",
      "Acuuracy score for  31 is  0.6279\n",
      "Acuuracy score for  33 is  0.6279\n",
      "Acuuracy score for  35 is  0.6279\n",
      "Acuuracy score for  37 is  0.5814\n",
      "Acuuracy score for  39 is  0.5814\n",
      "Acuuracy score for  41 is  0.5814\n",
      "Acuuracy score for  43 is  0.5814\n",
      "Acuuracy score for  45 is  0.5581\n",
      "Acuuracy score for  47 is  0.6279\n",
      "Acuuracy score for  49 is  0.5814\n"
     ]
    }
   ],
   "source": [
    "neighbours = list(range(1,50,2))\n",
    "x = []\n",
    "\n",
    "for i in neighbours:\n",
    "    knn_model = KNeighborsClassifier(n_neighbors=i)\n",
    "    knn_model.fit(x_train,y_train)\n",
    "    y_pred = knn_model.predict(x_test)\n",
    "    acc_score = (round(accuracy_score(y_test,y_pred),4))\n",
    "    print('Acuuracy score for ',i,'is ', acc_score)\n",
    "    x.append(acc_score)"
   ]
  },
  {
   "cell_type": "code",
   "execution_count": 28,
   "id": "6f35deff",
   "metadata": {},
   "outputs": [
    {
     "data": {
      "text/plain": [
       "0.7907"
      ]
     },
     "execution_count": 28,
     "metadata": {},
     "output_type": "execute_result"
    }
   ],
   "source": [
    "max(x)"
   ]
  },
  {
   "cell_type": "code",
   "execution_count": 20,
   "id": "9798662c",
   "metadata": {},
   "outputs": [
    {
     "data": {
      "text/plain": [
       "5"
      ]
     },
     "execution_count": 20,
     "metadata": {},
     "output_type": "execute_result"
    }
   ],
   "source": [
    "neighbours[x.index(max(x))]"
   ]
  },
  {
   "cell_type": "markdown",
   "id": "74a1668f",
   "metadata": {},
   "source": [
    "## Model Training | Testing | Evaluation with NORMALIZATION\n"
   ]
  },
  {
   "cell_type": "markdown",
   "id": "25783097",
   "metadata": {},
   "source": [
    "### Generating a Model with K = 3"
   ]
  },
  {
   "cell_type": "code",
   "execution_count": 21,
   "id": "e62aa1d8",
   "metadata": {},
   "outputs": [],
   "source": [
    "scaler   = StandardScaler()\n",
    "scaled_X = scaler.fit_transform(X)"
   ]
  },
  {
   "cell_type": "code",
   "execution_count": 22,
   "id": "0709150c",
   "metadata": {},
   "outputs": [
    {
     "data": {
      "text/plain": [
       "((171, 9), (171, 1), (43, 9), (43, 1))"
      ]
     },
     "execution_count": 22,
     "metadata": {},
     "output_type": "execute_result"
    }
   ],
   "source": [
    "X_train,X_test,Y_train,Y_test = train_test_split(scaled_X,y,test_size=0.20,random_state= 12,stratify=y)\n",
    "X_train.shape,Y_train.shape,X_test.shape,Y_test.shape"
   ]
  },
  {
   "cell_type": "code",
   "execution_count": 23,
   "id": "9baaa638",
   "metadata": {},
   "outputs": [
    {
     "data": {
      "text/plain": [
       "array([[-1.20610400e-01,  3.70875159e-01,  8.65488567e-01, ...,\n",
       "        -5.26095044e-01, -3.52876828e-01,  9.56587946e-01],\n",
       "       [-1.70159374e+00, -5.00618371e-01, -1.86551055e+00, ...,\n",
       "        -1.42761494e+00, -3.52876828e-01, -5.86450902e-01],\n",
       "       [-1.73419864e-01, -4.02421917e-01,  5.59727851e-01, ...,\n",
       "        -3.28887568e-01, -3.52876828e-01, -5.86450902e-01],\n",
       "       ...,\n",
       "       [ 1.24253390e+00,  9.84602997e-01,  7.89048388e-01, ...,\n",
       "         4.31769840e-01, -3.52876828e-01, -5.86450902e-01],\n",
       "       [-3.61553581e-01,  1.58605628e+00, -1.86551055e+00, ...,\n",
       "        -4.90385747e-03,  9.77617652e-01, -5.86450902e-01],\n",
       "       [ 4.25267336e+00, -3.28694275e+00, -1.86551055e+00, ...,\n",
       "         3.05885515e+00,  5.99721046e+00,  2.29388828e+00]])"
      ]
     },
     "execution_count": 23,
     "metadata": {},
     "output_type": "execute_result"
    }
   ],
   "source": [
    "X_train"
   ]
  },
  {
   "cell_type": "code",
   "execution_count": 24,
   "id": "0b03406e",
   "metadata": {},
   "outputs": [
    {
     "data": {
      "text/plain": [
       "array([[ 4.77197670e-02, -2.55127236e-01,  6.57015352e-01,\n",
       "        -7.52670580e-01,  2.31729707e-01,  1.12106515e-01,\n",
       "        -3.85232561e-01, -1.71445763e-01,  1.16232646e+00],\n",
       "       [-7.51023380e-01,  1.96656754e+00, -1.86551055e+00,\n",
       "         2.13830494e+00,  5.16433114e-01, -6.87074327e-01,\n",
       "        -8.94213472e-02,  7.15550557e-01, -5.86450902e-01],\n",
       "       [ 1.23593271e+00,  9.60053883e-01,  7.61251959e-01,\n",
       "        -1.07389008e+00, -1.67060670e+00, -4.10434805e-01,\n",
       "         1.28915501e-01, -3.52876828e-01,  3.21971159e+00],\n",
       "       [-5.45985699e-02, -9.67051528e-01,  5.24430284e-02,\n",
       "        -1.23449983e+00,  1.49995398e+00, -2.26008457e-01,\n",
       "         3.26122977e-01, -3.52876828e-01,  1.47093423e+00],\n",
       "       [ 1.83044019e-01,  6.40112399e-02,  7.95997495e-01,\n",
       "        -3.71222421e-01, -1.30620085e-01,  1.12106515e-01,\n",
       "        -5.26095044e-01, -3.52876828e-01,  8.53718690e-01],\n",
       "       [ 1.12371260e+00, -2.55127236e-01,  6.91760888e-01,\n",
       "        -5.92060829e-01,  1.28201195e-01,  6.59999275e-02,\n",
       "        -3.07758196e-01, -3.52876828e-01, -5.86450902e-01],\n",
       "       [-5.72791438e-01, -5.86540268e-01,  5.94473387e-01,\n",
       "         3.51521459e-01,  3.99963538e-01,  2.19688551e-01,\n",
       "        -6.52871279e-01, -3.52876828e-01,  1.57380349e+00],\n",
       "       [-7.21318056e-01, -4.88343814e-01,  5.66676959e-01,\n",
       "         7.04543943e-02,  3.09376090e-01,  1.58213102e-01,\n",
       "        -5.89483162e-01, -3.52876828e-01, -5.86450902e-01],\n",
       "       [ 1.57919423e+00,  3.94621264e-02,  4.55491244e-01,\n",
       "        -4.31451078e-01, -3.50618173e-01,  1.58213102e-01,\n",
       "        -8.94213472e-02, -3.52876828e-01, -5.86450902e-01],\n",
       "       [ 2.02847568e-01,  2.11305921e-01,  4.62440351e-01,\n",
       "        -4.31451078e-01, -7.38850093e-01,  1.42844239e-01,\n",
       "        -3.30763541e-02, -3.52876828e-01, -5.86450902e-01],\n",
       "       [ 1.17032189e-01, -5.86540268e-01,  6.77862673e-01,\n",
       "         2.31064145e-01, -1.82384341e-01,  1.27475377e-01,\n",
       "        -2.86628823e-01, -3.52876828e-01,  6.47980177e-01],\n",
       "       [ 4.37189566e-01, -9.42502414e-01, -1.86551055e+00,\n",
       "         4.11750115e-01,  1.42230759e+00, -1.79901870e-01,\n",
       "         1.81222217e+00, -3.52876828e-01, -5.86450902e-01],\n",
       "       [-7.24618648e-01,  1.89292020e+00, -1.86551055e+00,\n",
       "         1.65647569e+00,  8.39959714e-01, -7.63918639e-01,\n",
       "        -1.73938837e-01,  9.97776659e-01, -5.86450902e-01],\n",
       "       [-1.08438312e+00,  2.13841133e+00, -1.86551055e+00,\n",
       "         1.61632325e+00,  1.09878099e+00, -7.63918639e-01,\n",
       "        -4.34534430e-01,  9.17140630e-01, -5.86450902e-01],\n",
       "       [-1.76720456e-01, -8.81129630e-01,  5.94473387e-01,\n",
       "        -2.10612670e-01,  3.87022474e-01,  1.12106515e-01,\n",
       "        -1.45766340e-01, -3.52876828e-01, -5.86450902e-01],\n",
       "       [-8.43038936e-02, -5.49716598e-01,  1.91425172e-01,\n",
       "        -2.99267001e-02,  3.48199282e-01,  1.58213102e-01,\n",
       "        -1.17593844e-01, -7.06507264e-02, -5.86450902e-01],\n",
       "       [-7.93931069e-01, -7.58384063e-01,  6.43117137e-01,\n",
       "         3.51521459e-01,  4.12904602e-01,  2.19688551e-01,\n",
       "        -6.24698782e-01, -3.52876828e-01,  2.08814977e+00],\n",
       "       [-2.42732286e-01, -7.46109506e-01,  6.77862673e-01,\n",
       "        -3.51146202e-01,  4.64668858e-01,  1.58213102e-01,\n",
       "        -2.79585699e-01, -3.52876828e-01, -5.86450902e-01],\n",
       "       [-5.00178424e-01,  1.85609653e+00, -1.86551055e+00,\n",
       "         1.09434156e+00,  5.29374178e-01, -7.63918639e-01,\n",
       "        -3.92275686e-01,  2.85240533e+00, -5.86450902e-01],\n",
       "       [-3.81357130e-01, -6.60187609e-01,  5.52778744e-01,\n",
       "        -2.30688889e-01,  5.03492050e-01,  9.67376522e-02,\n",
       "        -3.71146313e-01, -3.52876828e-01, -5.86450902e-01],\n",
       "       [-7.21318056e-01,  1.49933137e-01,  6.01422494e-01,\n",
       "         1.90911708e-01,  4.38786730e-01, -1.64533008e-01,\n",
       "        -8.28949383e-01, -3.52876828e-01, -5.86450902e-01],\n",
       "       [-2.39431695e-01, -5.25167484e-01,  5.94473387e-01,\n",
       "        -4.71603516e-01,  4.51727794e-01,  2.35057413e-01,\n",
       "        -3.00715072e-01, -3.52876828e-01, -5.86450902e-01],\n",
       "       [-2.92241159e-01, -6.72462165e-01,  6.08371602e-01,\n",
       "        -3.51146202e-01,  7.23490138e-01,  6.59999275e-02,\n",
       "        -4.06361934e-01, -3.52876828e-01,  1.16232646e+00],\n",
       "       [ 1.89275042e+00,  5.18169840e-01,  1.49730529e-01,\n",
       "        -5.51908391e-01, -1.94236904e+00, -6.40967740e-01,\n",
       "         1.29103099e+00, -3.52876828e-01, -5.86450902e-01],\n",
       "       [ 6.81433338e-01, -3.41852141e-02, -1.86551055e+00,\n",
       "        -9.01553568e-02, -5.18852005e-01, -2.56746182e-01,\n",
       "         2.49540521e+00, -3.52876828e-01, -5.86450902e-01],\n",
       "       [ 1.69841653e-01,  1.94201842e+00, -1.32348019e+00,\n",
       "         5.92436086e-01, -1.95325405e-01, -7.63918639e-01,\n",
       "         6.99408557e-01, -3.52876828e-01, -5.86450902e-01],\n",
       "       [-2.32830512e-01, -2.42852679e-01,  6.98709995e-01,\n",
       "        -3.10993765e-01, -5.29737012e-02,  1.12106515e-01,\n",
       "        -5.19051920e-01, -3.52876828e-01, -5.86450902e-01],\n",
       "       [-8.66544083e-01,  1.78244919e+00,  6.84811780e-01,\n",
       "         5.92436086e-01, -1.01061244e+00, -5.18016841e-01,\n",
       "        -1.12476060e+00, -3.52876828e-01,  6.47980177e-01],\n",
       "       [-9.42056681e-02,  2.71875696e-02,  1.28883207e-01,\n",
       "        -5.11755954e-01,  2.44670771e-01,  8.13687898e-02,\n",
       "         5.14411357e-02, -3.52876828e-01, -5.86450902e-01],\n",
       "       [ 7.63948126e-01,  1.74482251e-01, -4.13147152e-01,\n",
       "         4.51902553e-01, -6.09439453e-01,  5.06310652e-02,\n",
       "         4.31769840e-01,  1.91416368e-01,  1.16232646e+00],\n",
       "       [ 7.54046351e-01,  1.16872135e+00, -1.86551055e+00,\n",
       "         1.15457021e+00,  9.95252482e-01, -7.63918639e-01,\n",
       "        -3.64103189e-01,  2.95320036e+00, -5.86450902e-01],\n",
       "       [-4.27565411e-01,  8.85603534e-02,  5.52778744e-01,\n",
       "         5.32207429e-01, -1.69443277e-01,  1.88950826e-01,\n",
       "        -6.81043776e-01, -3.52876828e-01, -5.86450902e-01],\n",
       "       [ 1.47138519e-02, -5.86540268e-01,  7.33455531e-01,\n",
       "        -6.72365705e-01, -4.80028813e-01,  2.19688551e-01,\n",
       "         2.13926668e-03, -3.52876828e-01,  1.67667274e+00],\n",
       "       [-5.66190255e-01, -3.28774576e-01,  5.31931423e-01,\n",
       "         6.32588523e-01, -2.21207533e-01,  1.58213102e-01,\n",
       "        -4.06361934e-01, -3.52876828e-01,  1.16232646e+00],\n",
       "       [-5.36484931e-01, -6.60187609e-01,  6.08371602e-01,\n",
       "         3.91673897e-01,  6.32902690e-01,  2.35057413e-01,\n",
       "        -6.81043776e-01, -3.52876828e-01, -5.86450902e-01],\n",
       "       [-1.93223414e-01, -2.42852679e-01,  8.71885642e-02,\n",
       "        -3.10993765e-01,  4.25845666e-01,  1.98933405e-02,\n",
       "         4.43980116e-02, -3.52876828e-01,  3.39372407e-01],\n",
       "       [ 3.31570637e-01,  4.69071613e-01, -1.90775722e-01,\n",
       "        -5.11755954e-01,  1.41142259e-01, -7.63918639e-01,\n",
       "         5.72632323e-01, -3.52876828e-01, -5.86450902e-01],\n",
       "       [ 1.27553981e+00, -2.42852679e-01,  7.54302852e-01,\n",
       "        -1.31480471e+00, -8.55319668e-01, -5.64123428e-01,\n",
       "         7.48710426e-01, -3.52876828e-01, -5.86450902e-01],\n",
       "       [-5.39785523e-01, -1.32381668e-01,  6.63964459e-01,\n",
       "         1.70835489e-01, -1.56502213e-01,  2.35057413e-01,\n",
       "        -6.52871279e-01, -3.52876828e-01,  2.39675754e+00],\n",
       "       [-7.47722788e-01, -9.55579979e-02,  5.87524280e-01,\n",
       "        -2.10612670e-01,  2.46726827e-02,  9.67376522e-02,\n",
       "        -4.41577555e-01, -3.52876828e-01, -5.86450902e-01],\n",
       "       [-1.71809669e+00, -4.76069257e-01, -1.86551055e+00,\n",
       "         3.20234454e+00, -2.80942033e+00,  8.78014487e+00,\n",
       "        -1.40648556e+00, -3.52876828e-01, -5.86450902e-01],\n",
       "       [-3.31848257e-01, -7.70658619e-01,  6.50066245e-01,\n",
       "        -3.10993765e-01,  1.79965451e-01,  1.42844239e-01,\n",
       "        -1.80981961e-01, -3.52876828e-01, -5.86450902e-01],\n",
       "       [-3.08744117e-01, -1.32381668e-01,  6.36168030e-01,\n",
       "        -6.12137048e-01,  5.68197370e-01,  1.27475377e-01,\n",
       "        -5.54267541e-01, -3.52876828e-01, -5.86450902e-01]])"
      ]
     },
     "execution_count": 24,
     "metadata": {},
     "output_type": "execute_result"
    }
   ],
   "source": [
    "X_test"
   ]
  },
  {
   "cell_type": "code",
   "execution_count": 25,
   "id": "5642e739",
   "metadata": {},
   "outputs": [
    {
     "name": "stdout",
     "output_type": "stream",
     "text": [
      "Accuracy score:  0.7674\n"
     ]
    }
   ],
   "source": [
    "knn_model1 = KNeighborsClassifier(n_neighbors=3)\n",
    "knn_model1.fit(X_train,Y_train)\n",
    "Y_pred = knn_model1.predict(X_test)\n",
    "print(\"Accuracy score: \", round(accuracy_score(Y_test,Y_pred),4))"
   ]
  },
  {
   "cell_type": "markdown",
   "id": "b5224699",
   "metadata": {},
   "source": [
    "### Generating a Model with K = 5 "
   ]
  },
  {
   "cell_type": "code",
   "execution_count": 26,
   "id": "8f31f7c5",
   "metadata": {},
   "outputs": [
    {
     "name": "stdout",
     "output_type": "stream",
     "text": [
      "Accuracy score:  0.6512\n"
     ]
    }
   ],
   "source": [
    "knn_model1 = KNeighborsClassifier(n_neighbors=5)\n",
    "knn_model1.fit(X_train,Y_train)\n",
    "Y_pred = knn_model1.predict(X_test)\n",
    "print(\"Accuracy score: \", round(accuracy_score(Y_test,Y_pred),4))"
   ]
  },
  {
   "cell_type": "markdown",
   "id": "17e3ba93",
   "metadata": {},
   "source": [
    "### Generating a Model with K = 7"
   ]
  },
  {
   "cell_type": "code",
   "execution_count": 27,
   "id": "c6a48165",
   "metadata": {},
   "outputs": [
    {
     "name": "stdout",
     "output_type": "stream",
     "text": [
      "Accuracy score:  0.6279\n"
     ]
    }
   ],
   "source": [
    "knn_model1 = KNeighborsClassifier(n_neighbors=7)\n",
    "knn_model1.fit(X_train,Y_train)\n",
    "Y_pred = knn_model1.predict(X_test)\n",
    "print(\"Accuracy score: \", round(accuracy_score(Y_test,Y_pred),4))"
   ]
  },
  {
   "cell_type": "code",
   "execution_count": 34,
   "id": "07b3d991",
   "metadata": {},
   "outputs": [
    {
     "name": "stdout",
     "output_type": "stream",
     "text": [
      "Acuuracy score for  1 is  0.7674\n",
      "Acuuracy score for  3 is  0.7674\n",
      "Acuuracy score for  5 is  0.6512\n",
      "Acuuracy score for  7 is  0.6279\n",
      "Acuuracy score for  9 is  0.5814\n",
      "Acuuracy score for  11 is  0.5814\n",
      "Acuuracy score for  13 is  0.5349\n",
      "Acuuracy score for  15 is  0.5581\n",
      "Acuuracy score for  17 is  0.5581\n",
      "Acuuracy score for  19 is  0.5814\n",
      "Acuuracy score for  21 is  0.5814\n",
      "Acuuracy score for  23 is  0.5581\n",
      "Acuuracy score for  25 is  0.5581\n",
      "Acuuracy score for  27 is  0.5349\n",
      "Acuuracy score for  29 is  0.5349\n",
      "Acuuracy score for  31 is  0.5349\n",
      "Acuuracy score for  33 is  0.5349\n",
      "Acuuracy score for  35 is  0.5349\n",
      "Acuuracy score for  37 is  0.5349\n",
      "Acuuracy score for  39 is  0.5581\n",
      "Acuuracy score for  41 is  0.5814\n",
      "Acuuracy score for  43 is  0.5814\n",
      "Acuuracy score for  45 is  0.5581\n",
      "Acuuracy score for  47 is  0.4651\n",
      "Acuuracy score for  49 is  0.3953\n"
     ]
    }
   ],
   "source": [
    "neighbours = list(range(1,50,2))\n",
    "c = []\n",
    "\n",
    "for i in neighbours:\n",
    "    knn_model1 = KNeighborsClassifier(n_neighbors=i)\n",
    "    knn_model1.fit(X_train,Y_train)\n",
    "    Y_pred = knn_model1.predict(X_test)\n",
    "    acc_score1 = (round(accuracy_score(Y_test,Y_pred),4))\n",
    "    print('Acuuracy score for ',i,'is ', acc_score1)\n",
    "    c.append(acc_score1)"
   ]
  },
  {
   "cell_type": "code",
   "execution_count": 31,
   "id": "a2f1af89",
   "metadata": {},
   "outputs": [
    {
     "data": {
      "text/plain": [
       "0.7674"
      ]
     },
     "execution_count": 31,
     "metadata": {},
     "output_type": "execute_result"
    }
   ],
   "source": [
    "max(c)"
   ]
  },
  {
   "cell_type": "code",
   "execution_count": 36,
   "id": "e33fafab",
   "metadata": {},
   "outputs": [
    {
     "data": {
      "text/plain": [
       "[<matplotlib.lines.Line2D at 0x1b881dfd9d0>]"
      ]
     },
     "execution_count": 36,
     "metadata": {},
     "output_type": "execute_result"
    },
    {
     "data": {
      "image/png": "[encoded data removed]",
      "text/plain": [
       "<Figure size 432x288 with 1 Axes>"
      ]
     },
     "metadata": {
      "needs_background": "light"
     },
     "output_type": "display_data"
    }
   ],
   "source": [
    "plt.plot(neighbours,x)"
   ]
  },
  {
   "cell_type": "markdown",
   "id": "cbd41ded",
   "metadata": {},
   "source": [
    "### Conclusion\n",
    "\n",
    "* As we can see, before standardizing my maximum accuracy is 0.79 and after standardizing the accuracy is 0.76. Hence I will go with the model without standardizing the input variables\n",
    "* The maximum accuracy for the model is when K=5"
   ]
  },
  {
   "cell_type": "code",
   "execution_count": null,
   "id": "f9fb54a7",
   "metadata": {},
   "outputs": [],
   "source": []
  }
 ],
 "metadata": {
  "kernelspec": {
   "display_name": "Python 3",
   "language": "python",
   "name": "python3"
  },
  "language_info": {
   "codemirror_mode": {
    "name": "ipython",
    "version": 3
   },
   "file_extension": ".py",
   "mimetype": "text/x-python",
   "name": "python",
   "nbconvert_exporter": "python",
   "pygments_lexer": "ipython3",
   "version": "3.8.8"
  }
 },
 "nbformat": 4,
 "nbformat_minor": 5
}
